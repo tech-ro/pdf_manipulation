{
 "cells": [
  {
   "cell_type": "code",
   "execution_count": 1,
   "id": "pointed-device",
   "metadata": {},
   "outputs": [],
   "source": [
    "import os\n",
    "from PyPDF2 import PdfFileMerger"
   ]
  },
  {
   "cell_type": "code",
   "execution_count": 2,
   "id": "finite-insight",
   "metadata": {},
   "outputs": [
    {
     "name": "stdout",
     "output_type": "stream",
     "text": [
      "['cl_aethon_fielddataprocessor.pdf', 'cv_aethon_fielddataprocessor.pdf']\n"
     ]
    }
   ],
   "source": [
    "input_path = \"input_files\"\n",
    "if os.path.isdir(input_path) and len(os.listdir(input_path)) > 0:\n",
    "    print(os.listdir(input_path))"
   ]
  },
  {
   "cell_type": "code",
   "execution_count": 4,
   "id": "blond-offer",
   "metadata": {},
   "outputs": [
    {
     "name": "stdout",
     "output_type": "stream",
     "text": [
      "[1] cl_aethon_fielddataprocessor.pdf\n",
      "[2] cv_aethon_fielddataprocessor.pdf\n",
      "Are the pdf files in the right order?n\n",
      "Ensure files in directory, \\input_files is in name order\n",
      "When ready to check again, press any button to continue or press Q to quit\n",
      "Are you ready to check again?q\n",
      "quitting\n"
     ]
    }
   ],
   "source": [
    "input_path = \"input_files\"\n",
    "res_flag = True\n",
    "\n",
    "while res_flag:\n",
    "    if os.path.isdir(input_path) and len(os.listdir(input_path)) > 0:\n",
    "        for i,file in enumerate(os.listdir(input_path)):\n",
    "            print(f\"[{i+1}] {file}\")\n",
    "        \n",
    "    res = input(\"Are the pdf files in the right order?\").lower()\n",
    "#     print(res)\n",
    "    if res in {'y', 'yes'}:\n",
    "        print(\"merging pdfs...\")\n",
    "        merge_list = []\n",
    "\n",
    "        for x in os.listdir(input_path):\n",
    "            if not x.endswith('.pdf'):\n",
    "                continue\n",
    "            merge_list.append(os.path.join(input_path,x))\n",
    "\n",
    "        merger = PdfFileMerger()\n",
    "\n",
    "        for pdf in merge_list:\n",
    "            merger.append(pdf)\n",
    "        pdf_file = \"merged_pdf.pdf\"\n",
    "        merger.write(pdf_file) #your output directory\n",
    "        merger.close()\n",
    "        print(f\"pdfs merged as {pdf_file}\")\n",
    "        res_flag = False\n",
    "    else:\n",
    "        print(\"Ensure files in directory, \\input_files is in name order\")\n",
    "        print(\"When ready to check again, press any button to continue or press Q to quit\")\n",
    "        check = input(\"Are you ready to check again?\").lower()\n",
    "        if check == 'q':\n",
    "            print(\"quitting\")\n",
    "            res_flag = False\n",
    "            quit()\n",
    "        else:\n",
    "            pass\n"
   ]
  },
  {
   "cell_type": "code",
   "execution_count": null,
   "id": "dutch-sharing",
   "metadata": {},
   "outputs": [],
   "source": [
    "merge_list = []\n",
    "\n",
    "for x in os.listdir(input_path):\n",
    "    if not x.endswith('.pdf'):\n",
    "        continue\n",
    "    merge_list.append(os.path.join(input_path,x))\n",
    "\n",
    "merge_list"
   ]
  },
  {
   "cell_type": "code",
   "execution_count": null,
   "id": "hidden-wrong",
   "metadata": {},
   "outputs": [],
   "source": [
    "merger = PdfFileMerger()\n",
    "\n",
    "for pdf in merge_list:\n",
    "    merger.append(pdf)\n",
    "\n",
    "merger.write(\"merged_pdf.pdf\") #your output directory\n",
    "merger.close()"
   ]
  }
 ],
 "metadata": {
  "kernelspec": {
   "display_name": "Python 3",
   "language": "python",
   "name": "python3"
  },
  "language_info": {
   "codemirror_mode": {
    "name": "ipython",
    "version": 3
   },
   "file_extension": ".py",
   "mimetype": "text/x-python",
   "name": "python",
   "nbconvert_exporter": "python",
   "pygments_lexer": "ipython3",
   "version": "3.8.7"
  }
 },
 "nbformat": 4,
 "nbformat_minor": 5
}
